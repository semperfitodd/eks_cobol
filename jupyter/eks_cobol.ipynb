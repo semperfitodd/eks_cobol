{
 "cells": [
  {
   "cell_type": "markdown",
   "id": "27408e6cdd353dfc",
   "metadata": {},
   "source": [
    "# Setup and Configuration\n",
    "\n",
    "This section initializes the SageMaker environment, defines the S3 paths, and sets up the IAM role and session to be used throughout the notebook."
   ]
  },
  {
   "cell_type": "code",
   "execution_count": 1,
   "id": "58ffaaca1f6d57ee",
   "metadata": {},
   "outputs": [
    {
     "name": "stdout",
     "output_type": "stream",
     "text": [
      "Requirement already satisfied: awscli in /home/ec2-user/anaconda3/envs/tensorflow2_p310/lib/python3.10/site-packages (1.38.22)\n",
      "Collecting awscli\n",
      "  Using cached awscli-1.38.27-py3-none-any.whl.metadata (11 kB)\n",
      "Requirement already satisfied: s3fs in /home/ec2-user/anaconda3/envs/tensorflow2_p310/lib/python3.10/site-packages (0.4.2)\n",
      "Collecting s3fs\n",
      "  Using cached s3fs-2025.3.2-py3-none-any.whl.metadata (1.9 kB)\n",
      "Requirement already satisfied: botocore==1.37.27 in /home/ec2-user/anaconda3/envs/tensorflow2_p310/lib/python3.10/site-packages (from awscli) (1.37.27)\n",
      "Requirement already satisfied: docutils<0.17,>=0.10 in /home/ec2-user/anaconda3/envs/tensorflow2_p310/lib/python3.10/site-packages (from awscli) (0.16)\n",
      "Requirement already satisfied: s3transfer<0.12.0,>=0.11.0 in /home/ec2-user/anaconda3/envs/tensorflow2_p310/lib/python3.10/site-packages (from awscli) (0.11.2)\n",
      "Requirement already satisfied: PyYAML<6.1,>=3.10 in /home/ec2-user/anaconda3/envs/tensorflow2_p310/lib/python3.10/site-packages (from awscli) (6.0.2)\n",
      "Requirement already satisfied: colorama<0.4.7,>=0.2.5 in /home/ec2-user/anaconda3/envs/tensorflow2_p310/lib/python3.10/site-packages (from awscli) (0.4.6)\n",
      "Requirement already satisfied: rsa<4.8,>=3.1.2 in /home/ec2-user/anaconda3/envs/tensorflow2_p310/lib/python3.10/site-packages (from awscli) (4.7.2)\n",
      "Requirement already satisfied: jmespath<2.0.0,>=0.7.1 in /home/ec2-user/anaconda3/envs/tensorflow2_p310/lib/python3.10/site-packages (from botocore==1.37.27->awscli) (1.0.1)\n",
      "Requirement already satisfied: python-dateutil<3.0.0,>=2.1 in /home/ec2-user/anaconda3/envs/tensorflow2_p310/lib/python3.10/site-packages (from botocore==1.37.27->awscli) (2.9.0)\n",
      "Requirement already satisfied: urllib3!=2.2.0,<3,>=1.25.4 in /home/ec2-user/anaconda3/envs/tensorflow2_p310/lib/python3.10/site-packages (from botocore==1.37.27->awscli) (1.26.19)\n",
      "Collecting aiobotocore<3.0.0,>=2.5.4 (from s3fs)\n",
      "  Using cached aiobotocore-2.21.1-py3-none-any.whl.metadata (24 kB)\n",
      "Collecting fsspec==2025.3.2.* (from s3fs)\n",
      "  Using cached fsspec-2025.3.2-py3-none-any.whl.metadata (11 kB)\n",
      "Requirement already satisfied: aiohttp!=4.0.0a0,!=4.0.0a1 in /home/ec2-user/anaconda3/envs/tensorflow2_p310/lib/python3.10/site-packages (from s3fs) (3.11.12)\n",
      "Collecting aioitertools<1.0.0,>=0.5.1 (from aiobotocore<3.0.0,>=2.5.4->s3fs)\n",
      "  Using cached aioitertools-0.12.0-py3-none-any.whl.metadata (3.8 kB)\n",
      "INFO: pip is looking at multiple versions of aiobotocore to determine which version is compatible with other requirements. This could take a while.\n",
      "Collecting aiobotocore<3.0.0,>=2.5.4 (from s3fs)\n",
      "  Using cached aiobotocore-2.21.0-py3-none-any.whl.metadata (24 kB)\n",
      "  Using cached aiobotocore-2.20.0-py3-none-any.whl.metadata (23 kB)\n",
      "  Using cached aiobotocore-2.19.0-py3-none-any.whl.metadata (23 kB)\n",
      "  Using cached aiobotocore-2.18.0-py3-none-any.whl.metadata (23 kB)\n",
      "  Using cached aiobotocore-2.17.0-py3-none-any.whl.metadata (23 kB)\n",
      "  Using cached aiobotocore-2.16.1-py3-none-any.whl.metadata (23 kB)\n",
      "  Using cached aiobotocore-2.16.0-py3-none-any.whl.metadata (23 kB)\n",
      "INFO: pip is still looking at multiple versions of aiobotocore to determine which version is compatible with other requirements. This could take a while.\n",
      "  Using cached aiobotocore-2.15.2-py3-none-any.whl.metadata (23 kB)\n",
      "  Using cached aiobotocore-2.15.1-py3-none-any.whl.metadata (23 kB)\n",
      "  Using cached aiobotocore-2.15.0-py3-none-any.whl.metadata (23 kB)\n",
      "  Using cached aiobotocore-2.14.0-py3-none-any.whl.metadata (23 kB)\n",
      "  Using cached aiobotocore-2.13.3-py3-none-any.whl.metadata (22 kB)\n",
      "INFO: This is taking longer than usual. You might need to provide the dependency resolver with stricter constraints to reduce runtime. See https://pip.pypa.io/warnings/backtracking for guidance. If you want to abort this run, press Ctrl + C.\n",
      "  Using cached aiobotocore-2.13.2-py3-none-any.whl.metadata (22 kB)\n",
      "  Using cached aiobotocore-2.13.1-py3-none-any.whl.metadata (22 kB)\n",
      "  Using cached aiobotocore-2.13.0-py3-none-any.whl.metadata (21 kB)\n",
      "  Using cached aiobotocore-2.12.4-py3-none-any.whl.metadata (21 kB)\n",
      "  Using cached aiobotocore-2.12.3-py3-none-any.whl.metadata (21 kB)\n",
      "  Using cached aiobotocore-2.12.2-py3-none-any.whl.metadata (21 kB)\n",
      "  Using cached aiobotocore-2.12.1-py3-none-any.whl.metadata (21 kB)\n",
      "  Using cached aiobotocore-2.12.0-py3-none-any.whl.metadata (21 kB)\n",
      "  Using cached aiobotocore-2.11.2-py3-none-any.whl.metadata (21 kB)\n",
      "  Using cached aiobotocore-2.11.1-py3-none-any.whl.metadata (21 kB)\n",
      "  Using cached aiobotocore-2.11.0-py3-none-any.whl.metadata (21 kB)\n",
      "  Using cached aiobotocore-2.10.0-py3-none-any.whl.metadata (20 kB)\n",
      "  Using cached aiobotocore-2.9.1-py3-none-any.whl.metadata (20 kB)\n",
      "  Using cached aiobotocore-2.9.0-py3-none-any.whl.metadata (20 kB)\n",
      "  Using cached aiobotocore-2.8.0-py3-none-any.whl.metadata (20 kB)\n",
      "  Using cached aiobotocore-2.7.0-py3-none-any.whl.metadata (20 kB)\n",
      "  Using cached aiobotocore-2.6.0-py3-none-any.whl.metadata (19 kB)\n",
      "  Using cached aiobotocore-2.5.4-py3-none-any.whl.metadata (19 kB)\n",
      "Collecting s3fs\n",
      "  Using cached s3fs-2025.3.1-py3-none-any.whl.metadata (1.9 kB)\n",
      "INFO: pip is looking at multiple versions of s3fs to determine which version is compatible with other requirements. This could take a while.\n",
      "  Using cached s3fs-2025.3.0-py3-none-any.whl.metadata (1.9 kB)\n",
      "Collecting fsspec==2025.3.0.* (from s3fs)\n",
      "  Using cached fsspec-2025.3.0-py3-none-any.whl.metadata (11 kB)\n",
      "Collecting s3fs\n",
      "  Using cached s3fs-2025.2.0-py3-none-any.whl.metadata (1.9 kB)\n",
      "Requirement already satisfied: fsspec==2025.2.0.* in /home/ec2-user/anaconda3/envs/tensorflow2_p310/lib/python3.10/site-packages (from s3fs) (2025.2.0)\n",
      "  Using cached s3fs-2024.12.0-py3-none-any.whl.metadata (1.6 kB)\n",
      "Collecting fsspec==2024.12.0.* (from s3fs)\n",
      "  Using cached fsspec-2024.12.0-py3-none-any.whl.metadata (11 kB)\n",
      "Collecting s3fs\n",
      "  Using cached s3fs-2024.10.0-py3-none-any.whl.metadata (1.7 kB)\n",
      "Collecting fsspec==2024.10.0.* (from s3fs)\n",
      "  Using cached fsspec-2024.10.0-py3-none-any.whl.metadata (11 kB)\n",
      "Collecting s3fs\n",
      "  Using cached s3fs-2024.9.0-py3-none-any.whl.metadata (1.6 kB)\n",
      "Collecting fsspec==2024.9.0.* (from s3fs)\n",
      "  Using cached fsspec-2024.9.0-py3-none-any.whl.metadata (11 kB)\n",
      "Collecting s3fs\n",
      "  Using cached s3fs-2024.6.1-py3-none-any.whl.metadata (1.6 kB)\n",
      "Collecting fsspec==2024.6.1.* (from s3fs)\n",
      "  Using cached fsspec-2024.6.1-py3-none-any.whl.metadata (11 kB)\n",
      "Collecting s3fs\n",
      "  Using cached s3fs-2024.6.0-py3-none-any.whl.metadata (1.6 kB)\n",
      "Collecting fsspec==2024.6.0.* (from s3fs)\n",
      "  Using cached fsspec-2024.6.0-py3-none-any.whl.metadata (11 kB)\n",
      "INFO: pip is still looking at multiple versions of s3fs to determine which version is compatible with other requirements. This could take a while.\n",
      "Collecting s3fs\n",
      "  Using cached s3fs-2024.5.0-py3-none-any.whl.metadata (1.6 kB)\n",
      "Collecting fsspec==2024.5.0.* (from s3fs)\n",
      "  Using cached fsspec-2024.5.0-py3-none-any.whl.metadata (11 kB)\n",
      "Collecting s3fs\n",
      "  Using cached s3fs-2024.3.1-py3-none-any.whl.metadata (1.6 kB)\n",
      "Collecting fsspec==2024.3.1 (from s3fs)\n",
      "  Using cached fsspec-2024.3.1-py3-none-any.whl.metadata (6.8 kB)\n",
      "Collecting s3fs\n",
      "  Using cached s3fs-2024.3.0-py3-none-any.whl.metadata (1.6 kB)\n",
      "Collecting fsspec==2024.3.0 (from s3fs)\n",
      "  Using cached fsspec-2024.3.0-py3-none-any.whl.metadata (6.8 kB)\n",
      "Collecting s3fs\n",
      "  Using cached s3fs-2024.2.0-py3-none-any.whl.metadata (1.6 kB)\n",
      "Collecting fsspec==2024.2.0 (from s3fs)\n",
      "  Using cached fsspec-2024.2.0-py3-none-any.whl.metadata (6.8 kB)\n",
      "Collecting s3fs\n",
      "  Using cached s3fs-2023.12.2-py3-none-any.whl.metadata (1.6 kB)\n",
      "Collecting fsspec==2023.12.2 (from s3fs)\n",
      "  Using cached fsspec-2023.12.2-py3-none-any.whl.metadata (6.8 kB)\n",
      "INFO: This is taking longer than usual. You might need to provide the dependency resolver with stricter constraints to reduce runtime. See https://pip.pypa.io/warnings/backtracking for guidance. If you want to abort this run, press Ctrl + C.\n",
      "Collecting s3fs\n",
      "  Using cached s3fs-2023.12.1-py3-none-any.whl.metadata (1.6 kB)\n",
      "Collecting fsspec==2023.12.1 (from s3fs)\n",
      "  Using cached fsspec-2023.12.1-py3-none-any.whl.metadata (6.8 kB)\n",
      "Collecting s3fs\n",
      "  Using cached s3fs-2023.10.0-py3-none-any.whl.metadata (1.6 kB)\n",
      "Collecting fsspec==2023.10.0 (from s3fs)\n",
      "  Using cached fsspec-2023.10.0-py3-none-any.whl.metadata (6.8 kB)\n",
      "Collecting s3fs\n",
      "  Using cached s3fs-2023.9.2-py3-none-any.whl.metadata (1.6 kB)\n",
      "Collecting fsspec==2023.9.2 (from s3fs)\n",
      "  Using cached fsspec-2023.9.2-py3-none-any.whl.metadata (6.7 kB)\n",
      "Collecting s3fs\n",
      "  Using cached s3fs-2023.9.1-py3-none-any.whl.metadata (1.6 kB)\n",
      "Collecting fsspec==2023.9.1 (from s3fs)\n",
      "  Using cached fsspec-2023.9.1-py3-none-any.whl.metadata (6.7 kB)\n",
      "Collecting s3fs\n",
      "  Using cached s3fs-2023.9.0-py3-none-any.whl.metadata (1.6 kB)\n",
      "Collecting fsspec==2023.9.0 (from s3fs)\n",
      "  Using cached fsspec-2023.9.0-py3-none-any.whl.metadata (6.7 kB)\n",
      "Collecting s3fs\n",
      "  Using cached s3fs-2023.6.0-py3-none-any.whl.metadata (1.6 kB)\n",
      "Collecting fsspec==2023.6.0 (from s3fs)\n",
      "  Using cached fsspec-2023.6.0-py3-none-any.whl.metadata (6.7 kB)\n",
      "Collecting aiobotocore~=2.5.0 (from s3fs)\n",
      "  Using cached aiobotocore-2.5.3-py3-none-any.whl.metadata (19 kB)\n",
      "  Using cached aiobotocore-2.5.2-py3-none-any.whl.metadata (19 kB)\n",
      "  Using cached aiobotocore-2.5.1-py3-none-any.whl.metadata (19 kB)\n",
      "  Using cached aiobotocore-2.5.0-py3-none-any.whl.metadata (19 kB)\n",
      "Collecting s3fs\n",
      "  Using cached s3fs-2023.5.0-py3-none-any.whl.metadata (1.6 kB)\n",
      "Collecting fsspec==2023.5.0 (from s3fs)\n",
      "  Using cached fsspec-2023.5.0-py3-none-any.whl.metadata (6.7 kB)\n",
      "Collecting s3fs\n",
      "  Using cached s3fs-2023.4.0-py3-none-any.whl.metadata (1.6 kB)\n",
      "Collecting fsspec==2023.4.0 (from s3fs)\n",
      "  Using cached fsspec-2023.4.0-py3-none-any.whl.metadata (6.7 kB)\n",
      "Collecting s3fs\n",
      "  Using cached s3fs-2023.3.0-py3-none-any.whl.metadata (1.6 kB)\n",
      "Collecting aiobotocore~=2.4.2 (from s3fs)\n",
      "  Using cached aiobotocore-2.4.2-py3-none-any.whl.metadata (19 kB)\n",
      "Collecting fsspec==2023.3.0 (from s3fs)\n",
      "  Using cached fsspec-2023.3.0-py3-none-any.whl.metadata (5.5 kB)\n",
      "Collecting s3fs\n",
      "  Using cached s3fs-2023.1.0-py3-none-any.whl.metadata (1.5 kB)\n",
      "Collecting fsspec==2023.1.0 (from s3fs)\n",
      "  Using cached fsspec-2023.1.0-py3-none-any.whl.metadata (5.5 kB)\n",
      "Collecting s3fs\n",
      "  Using cached s3fs-2022.11.0-py3-none-any.whl.metadata (1.5 kB)\n",
      "Collecting fsspec==2022.11.0 (from s3fs)\n",
      "  Using cached fsspec-2022.11.0-py3-none-any.whl.metadata (5.6 kB)\n",
      "Collecting aiobotocore~=2.4.0 (from s3fs)\n",
      "  Using cached aiobotocore-2.4.1-py3-none-any.whl.metadata (19 kB)\n",
      "  Using cached aiobotocore-2.4.0-py3-none-any.whl.metadata (19 kB)\n",
      "Collecting s3fs\n",
      "  Using cached s3fs-2022.10.0-py3-none-any.whl.metadata (1.5 kB)\n",
      "Collecting fsspec==2022.10.0 (from s3fs)\n",
      "  Using cached fsspec-2022.10.0-py3-none-any.whl.metadata (5.6 kB)\n",
      "Collecting s3fs\n",
      "  Using cached s3fs-2022.8.2-py3-none-any.whl.metadata (1.6 kB)\n",
      "Collecting fsspec==2022.8.2 (from s3fs)\n",
      "  Using cached fsspec-2022.8.2-py3-none-any.whl.metadata (5.6 kB)\n",
      "Collecting s3fs\n",
      "  Using cached s3fs-2022.8.1-py3-none-any.whl.metadata (1.6 kB)\n",
      "Collecting fsspec==2022.8.1 (from s3fs)\n",
      "  Using cached fsspec-2022.8.1-py3-none-any.whl.metadata (5.6 kB)\n",
      "Collecting s3fs\n",
      "  Using cached s3fs-2022.8.0-py3-none-any.whl.metadata (1.6 kB)\n",
      "Collecting fsspec==2022.8.0 (from s3fs)\n",
      "  Using cached fsspec-2022.8.0-py3-none-any.whl.metadata (5.6 kB)\n",
      "Collecting s3fs\n",
      "  Using cached s3fs-2022.7.1-py3-none-any.whl.metadata (1.5 kB)\n",
      "Collecting aiobotocore~=2.3.4 (from s3fs)\n",
      "  Using cached aiobotocore-2.3.4-py3-none-any.whl.metadata (19 kB)\n",
      "Collecting fsspec==2022.7.1 (from s3fs)\n",
      "  Using cached fsspec-2022.7.1-py3-none-any.whl.metadata (5.6 kB)\n",
      "Collecting s3fs\n",
      "  Using cached s3fs-2022.7.0-py3-none-any.whl.metadata (1.5 kB)\n",
      "Collecting fsspec==2022.7.0 (from s3fs)\n",
      "  Using cached fsspec-2022.7.0-py3-none-any.whl.metadata (5.6 kB)\n",
      "Collecting s3fs\n",
      "  Using cached s3fs-2022.5.0-py3-none-any.whl.metadata (1.5 kB)\n",
      "Collecting fsspec==2022.5.0 (from s3fs)\n",
      "  Using cached fsspec-2022.5.0-py3-none-any.whl.metadata (5.5 kB)\n",
      "Collecting aiobotocore~=2.3.0 (from s3fs)\n",
      "  Using cached aiobotocore-2.3.3.tar.gz (65 kB)\n",
      "  Preparing metadata (setup.py) ... \u001B[?25lerror\n",
      "  \u001B[1;31merror\u001B[0m: \u001B[1msubprocess-exited-with-error\u001B[0m\n",
      "  \n",
      "  \u001B[31m×\u001B[0m \u001B[32mpython setup.py egg_info\u001B[0m did not run successfully.\n",
      "  \u001B[31m│\u001B[0m exit code: \u001B[1;36m1\u001B[0m\n",
      "  \u001B[31m╰─>\u001B[0m \u001B[31m[44 lines of output]\u001B[0m\n",
      "  \u001B[31m   \u001B[0m running egg_info\n",
      "  \u001B[31m   \u001B[0m creating /tmp/pip-pip-egg-info-le1pxwsw/aiobotocore.egg-info\n",
      "  \u001B[31m   \u001B[0m writing /tmp/pip-pip-egg-info-le1pxwsw/aiobotocore.egg-info/PKG-INFO\n",
      "  \u001B[31m   \u001B[0m writing dependency_links to /tmp/pip-pip-egg-info-le1pxwsw/aiobotocore.egg-info/dependency_links.txt\n",
      "  \u001B[31m   \u001B[0m writing requirements to /tmp/pip-pip-egg-info-le1pxwsw/aiobotocore.egg-info/requires.txt\n",
      "  \u001B[31m   \u001B[0m writing top-level names to /tmp/pip-pip-egg-info-le1pxwsw/aiobotocore.egg-info/top_level.txt\n",
      "  \u001B[31m   \u001B[0m writing manifest file '/tmp/pip-pip-egg-info-le1pxwsw/aiobotocore.egg-info/SOURCES.txt'\n",
      "  \u001B[31m   \u001B[0m reading manifest file '/tmp/pip-pip-egg-info-le1pxwsw/aiobotocore.egg-info/SOURCES.txt'\n",
      "  \u001B[31m   \u001B[0m reading manifest template 'MANIFEST.in'\n",
      "  \u001B[31m   \u001B[0m warning: no previously-included files matching '*.pyc' found anywhere in distribution\n",
      "  \u001B[31m   \u001B[0m warning: no previously-included files matching '*.swp' found anywhere in distribution\n",
      "  \u001B[31m   \u001B[0m adding license file 'LICENSE'\n",
      "  \u001B[31m   \u001B[0m Traceback (most recent call last):\n",
      "  \u001B[31m   \u001B[0m   File \"<string>\", line 2, in <module>\n",
      "  \u001B[31m   \u001B[0m   File \"<pip-setuptools-caller>\", line 34, in <module>\n",
      "  \u001B[31m   \u001B[0m   File \"/tmp/pip-install-r7wbqhnu/aiobotocore_b694ac18a96e4161bf5b2552d70f8f2a/setup.py\", line 40, in <module>\n",
      "  \u001B[31m   \u001B[0m     setup(\n",
      "  \u001B[31m   \u001B[0m   File \"/home/ec2-user/anaconda3/envs/tensorflow2_p310/lib/python3.10/site-packages/setuptools/__init__.py\", line 117, in setup\n",
      "  \u001B[31m   \u001B[0m     return distutils.core.setup(**attrs)\n",
      "  \u001B[31m   \u001B[0m   File \"/home/ec2-user/anaconda3/envs/tensorflow2_p310/lib/python3.10/site-packages/setuptools/_distutils/core.py\", line 186, in setup\n",
      "  \u001B[31m   \u001B[0m     return run_commands(dist)\n",
      "  \u001B[31m   \u001B[0m   File \"/home/ec2-user/anaconda3/envs/tensorflow2_p310/lib/python3.10/site-packages/setuptools/_distutils/core.py\", line 202, in run_commands\n",
      "  \u001B[31m   \u001B[0m     dist.run_commands()\n",
      "  \u001B[31m   \u001B[0m   File \"/home/ec2-user/anaconda3/envs/tensorflow2_p310/lib/python3.10/site-packages/setuptools/_distutils/dist.py\", line 983, in run_commands\n",
      "  \u001B[31m   \u001B[0m     self.run_command(cmd)\n",
      "  \u001B[31m   \u001B[0m   File \"/home/ec2-user/anaconda3/envs/tensorflow2_p310/lib/python3.10/site-packages/setuptools/dist.py\", line 999, in run_command\n",
      "  \u001B[31m   \u001B[0m     super().run_command(command)\n",
      "  \u001B[31m   \u001B[0m   File \"/home/ec2-user/anaconda3/envs/tensorflow2_p310/lib/python3.10/site-packages/setuptools/_distutils/dist.py\", line 1002, in run_command\n",
      "  \u001B[31m   \u001B[0m     cmd_obj.run()\n",
      "  \u001B[31m   \u001B[0m   File \"/home/ec2-user/anaconda3/envs/tensorflow2_p310/lib/python3.10/site-packages/setuptools/command/egg_info.py\", line 312, in run\n",
      "  \u001B[31m   \u001B[0m     self.find_sources()\n",
      "  \u001B[31m   \u001B[0m   File \"/home/ec2-user/anaconda3/envs/tensorflow2_p310/lib/python3.10/site-packages/setuptools/command/egg_info.py\", line 320, in find_sources\n",
      "  \u001B[31m   \u001B[0m     mm.run()\n",
      "  \u001B[31m   \u001B[0m   File \"/home/ec2-user/anaconda3/envs/tensorflow2_p310/lib/python3.10/site-packages/setuptools/command/egg_info.py\", line 548, in run\n",
      "  \u001B[31m   \u001B[0m     self.prune_file_list()\n",
      "  \u001B[31m   \u001B[0m   File \"/home/ec2-user/anaconda3/envs/tensorflow2_p310/lib/python3.10/site-packages/setuptools/command/sdist.py\", line 162, in prune_file_list\n",
      "  \u001B[31m   \u001B[0m     super().prune_file_list()\n",
      "  \u001B[31m   \u001B[0m   File \"/home/ec2-user/anaconda3/envs/tensorflow2_p310/lib/python3.10/site-packages/setuptools/_distutils/command/sdist.py\", line 380, in prune_file_list\n",
      "  \u001B[31m   \u001B[0m     base_dir = self.distribution.get_fullname()\n",
      "  \u001B[31m   \u001B[0m   File \"/home/ec2-user/anaconda3/envs/tensorflow2_p310/lib/python3.10/site-packages/setuptools/_core_metadata.py\", line 272, in get_fullname\n",
      "  \u001B[31m   \u001B[0m     return _distribution_fullname(self.get_name(), self.get_version())\n",
      "  \u001B[31m   \u001B[0m   File \"/home/ec2-user/anaconda3/envs/tensorflow2_p310/lib/python3.10/site-packages/setuptools/_core_metadata.py\", line 290, in _distribution_fullname\n",
      "  \u001B[31m   \u001B[0m     canonicalize_version(version, strip_trailing_zero=False),\n",
      "  \u001B[31m   \u001B[0m TypeError: canonicalize_version() got an unexpected keyword argument 'strip_trailing_zero'\n",
      "  \u001B[31m   \u001B[0m \u001B[31m[end of output]\u001B[0m\n",
      "  \n",
      "  \u001B[1;35mnote\u001B[0m: This error originates from a subprocess, and is likely not a problem with pip.\n",
      "\u001B[1;31merror\u001B[0m: \u001B[1mmetadata-generation-failed\u001B[0m\n",
      "\n",
      "\u001B[31m×\u001B[0m Encountered error while generating package metadata.\n",
      "\u001B[31m╰─>\u001B[0m See above for output.\n",
      "\n",
      "\u001B[1;35mnote\u001B[0m: This is an issue with the package mentioned above, not pip.\n",
      "\u001B[1;36mhint\u001B[0m: See above for details.\n",
      "\u001B[?25hRequirement already satisfied: boto3 in /home/ec2-user/anaconda3/envs/tensorflow2_p310/lib/python3.10/site-packages (1.37.27)\n",
      "Requirement already satisfied: botocore<1.38.0,>=1.37.27 in /home/ec2-user/anaconda3/envs/tensorflow2_p310/lib/python3.10/site-packages (from boto3) (1.37.27)\n",
      "Requirement already satisfied: jmespath<2.0.0,>=0.7.1 in /home/ec2-user/anaconda3/envs/tensorflow2_p310/lib/python3.10/site-packages (from boto3) (1.0.1)\n",
      "Requirement already satisfied: s3transfer<0.12.0,>=0.11.0 in /home/ec2-user/anaconda3/envs/tensorflow2_p310/lib/python3.10/site-packages (from boto3) (0.11.2)\n",
      "Requirement already satisfied: python-dateutil<3.0.0,>=2.1 in /home/ec2-user/anaconda3/envs/tensorflow2_p310/lib/python3.10/site-packages (from botocore<1.38.0,>=1.37.27->boto3) (2.9.0)\n",
      "Requirement already satisfied: urllib3!=2.2.0,<3,>=1.25.4 in /home/ec2-user/anaconda3/envs/tensorflow2_p310/lib/python3.10/site-packages (from botocore<1.38.0,>=1.37.27->boto3) (1.26.19)\n",
      "Requirement already satisfied: six>=1.5 in /home/ec2-user/anaconda3/envs/tensorflow2_p310/lib/python3.10/site-packages (from python-dateutil<3.0.0,>=2.1->botocore<1.38.0,>=1.37.27->boto3) (1.17.0)\n"
     ]
    },
    {
     "name": "stderr",
     "output_type": "stream",
     "text": [
      "/home/ec2-user/anaconda3/envs/tensorflow2_p310/lib/python3.10/site-packages/pydantic/_internal/_fields.py:192: UserWarning: Field name \"json\" in \"MonitoringDatasetFormat\" shadows an attribute in parent \"Base\"\n",
      "  warnings.warn(\n"
     ]
    },
    {
     "data": {
      "text/html": [
       "<pre style=\"white-space:pre;overflow-x:auto;line-height:normal;font-family:Menlo,'DejaVu Sans Mono',consolas,'Courier New',monospace\"><span style=\"color: #7fbfbf; text-decoration-color: #7fbfbf\">[04/04/25 17:10:22] </span><span style=\"color: #0069ff; text-decoration-color: #0069ff; font-weight: bold\">INFO    </span> Found credentials from IAM Role:                                   <a href=\"file:///home/ec2-user/anaconda3/envs/tensorflow2_p310/lib/python3.10/site-packages/botocore/credentials.py\" target=\"_blank\"><span style=\"color: #7f7f7f; text-decoration-color: #7f7f7f\">credentials.py</span></a><span style=\"color: #7f7f7f; text-decoration-color: #7f7f7f\">:</span><a href=\"file:///home/ec2-user/anaconda3/envs/tensorflow2_p310/lib/python3.10/site-packages/botocore/credentials.py#1132\" target=\"_blank\"><span style=\"color: #7f7f7f; text-decoration-color: #7f7f7f\">1132</span></a>\n",
       "<span style=\"color: #7fbfbf; text-decoration-color: #7fbfbf\">                    </span>         BaseNotebookInstanceEc2InstanceRole                                <span style=\"color: #7f7f7f; text-decoration-color: #7f7f7f\">                   </span>\n",
       "</pre>\n"
      ],
      "text/plain": [
       "\u001B[2;36m[04/04/25 17:10:22]\u001B[0m\u001B[2;36m \u001B[0m\u001B[1;38;2;0;105;255mINFO    \u001B[0m Found credentials from IAM Role:                                   \u001B]8;id=550799;file:///home/ec2-user/anaconda3/envs/tensorflow2_p310/lib/python3.10/site-packages/botocore/credentials.py\u001B\\\u001B[2mcredentials.py\u001B[0m\u001B]8;;\u001B\\\u001B[2m:\u001B[0m\u001B]8;id=179566;file:///home/ec2-user/anaconda3/envs/tensorflow2_p310/lib/python3.10/site-packages/botocore/credentials.py#1132\u001B\\\u001B[2m1132\u001B[0m\u001B]8;;\u001B\\\n",
       "\u001B[2;36m                    \u001B[0m         BaseNotebookInstanceEc2InstanceRole                                \u001B[2m                   \u001B[0m\n"
      ]
     },
     "metadata": {},
     "output_type": "display_data"
    },
    {
     "name": "stdout",
     "output_type": "stream",
     "text": [
      "sagemaker.config INFO - Not applying SDK defaults from location: /etc/xdg/sagemaker/config.yaml\n",
      "sagemaker.config INFO - Not applying SDK defaults from location: /home/ec2-user/.config/sagemaker/config.yaml\n"
     ]
    },
    {
     "data": {
      "text/html": [
       "<pre style=\"white-space:pre;overflow-x:auto;line-height:normal;font-family:Menlo,'DejaVu Sans Mono',consolas,'Courier New',monospace\"><span style=\"color: #7fbfbf; text-decoration-color: #7fbfbf\">[04/04/25 17:10:23] </span><span style=\"color: #0069ff; text-decoration-color: #0069ff; font-weight: bold\">INFO    </span> Found credentials from IAM Role:                                   <a href=\"file:///home/ec2-user/anaconda3/envs/tensorflow2_p310/lib/python3.10/site-packages/botocore/credentials.py\" target=\"_blank\"><span style=\"color: #7f7f7f; text-decoration-color: #7f7f7f\">credentials.py</span></a><span style=\"color: #7f7f7f; text-decoration-color: #7f7f7f\">:</span><a href=\"file:///home/ec2-user/anaconda3/envs/tensorflow2_p310/lib/python3.10/site-packages/botocore/credentials.py#1132\" target=\"_blank\"><span style=\"color: #7f7f7f; text-decoration-color: #7f7f7f\">1132</span></a>\n",
       "<span style=\"color: #7fbfbf; text-decoration-color: #7fbfbf\">                    </span>         BaseNotebookInstanceEc2InstanceRole                                <span style=\"color: #7f7f7f; text-decoration-color: #7f7f7f\">                   </span>\n",
       "</pre>\n"
      ],
      "text/plain": [
       "\u001B[2;36m[04/04/25 17:10:23]\u001B[0m\u001B[2;36m \u001B[0m\u001B[1;38;2;0;105;255mINFO    \u001B[0m Found credentials from IAM Role:                                   \u001B]8;id=755799;file:///home/ec2-user/anaconda3/envs/tensorflow2_p310/lib/python3.10/site-packages/botocore/credentials.py\u001B\\\u001B[2mcredentials.py\u001B[0m\u001B]8;;\u001B\\\u001B[2m:\u001B[0m\u001B]8;id=256851;file:///home/ec2-user/anaconda3/envs/tensorflow2_p310/lib/python3.10/site-packages/botocore/credentials.py#1132\u001B\\\u001B[2m1132\u001B[0m\u001B]8;;\u001B\\\n",
       "\u001B[2;36m                    \u001B[0m         BaseNotebookInstanceEc2InstanceRole                                \u001B[2m                   \u001B[0m\n"
      ]
     },
     "metadata": {},
     "output_type": "display_data"
    },
    {
     "data": {
      "text/html": [
       "<pre style=\"white-space:pre;overflow-x:auto;line-height:normal;font-family:Menlo,'DejaVu Sans Mono',consolas,'Courier New',monospace\"><span style=\"color: #7fbfbf; text-decoration-color: #7fbfbf\">                    </span><span style=\"color: #0069ff; text-decoration-color: #0069ff; font-weight: bold\">INFO    </span> Found credentials from IAM Role:                                   <a href=\"file:///home/ec2-user/anaconda3/envs/tensorflow2_p310/lib/python3.10/site-packages/botocore/credentials.py\" target=\"_blank\"><span style=\"color: #7f7f7f; text-decoration-color: #7f7f7f\">credentials.py</span></a><span style=\"color: #7f7f7f; text-decoration-color: #7f7f7f\">:</span><a href=\"file:///home/ec2-user/anaconda3/envs/tensorflow2_p310/lib/python3.10/site-packages/botocore/credentials.py#1132\" target=\"_blank\"><span style=\"color: #7f7f7f; text-decoration-color: #7f7f7f\">1132</span></a>\n",
       "<span style=\"color: #7fbfbf; text-decoration-color: #7fbfbf\">                    </span>         BaseNotebookInstanceEc2InstanceRole                                <span style=\"color: #7f7f7f; text-decoration-color: #7f7f7f\">                   </span>\n",
       "</pre>\n"
      ],
      "text/plain": [
       "\u001B[2;36m                   \u001B[0m\u001B[2;36m \u001B[0m\u001B[1;38;2;0;105;255mINFO    \u001B[0m Found credentials from IAM Role:                                   \u001B]8;id=159981;file:///home/ec2-user/anaconda3/envs/tensorflow2_p310/lib/python3.10/site-packages/botocore/credentials.py\u001B\\\u001B[2mcredentials.py\u001B[0m\u001B]8;;\u001B\\\u001B[2m:\u001B[0m\u001B]8;id=985937;file:///home/ec2-user/anaconda3/envs/tensorflow2_p310/lib/python3.10/site-packages/botocore/credentials.py#1132\u001B\\\u001B[2m1132\u001B[0m\u001B]8;;\u001B\\\n",
       "\u001B[2;36m                    \u001B[0m         BaseNotebookInstanceEc2InstanceRole                                \u001B[2m                   \u001B[0m\n"
      ]
     },
     "metadata": {},
     "output_type": "display_data"
    }
   ],
   "source": [
    "!pip install --upgrade awscli s3fs\n",
    "!pip install --upgrade boto3\n",
    "\n",
    "import boto3\n",
    "import sagemaker\n",
    "from sagemaker import get_execution_role\n",
    "\n",
    "session = sagemaker.Session()\n",
    "bucket = 'eks-cobol-logs-hdb3f3'\n",
    "prefix = 'training'\n",
    "\n",
    "role = get_execution_role()"
   ]
  },
  {
   "cell_type": "markdown",
   "id": "ffadbc6f00029760",
   "metadata": {},
   "source": [
    "# Load and Explore Data\n",
    "\n",
    "This section loads the training data from S3 and performs basic inspection of the dataset to understand its structure and content.\n"
   ]
  },
  {
   "cell_type": "code",
   "execution_count": 2,
   "id": "57637a2beb21070b",
   "metadata": {},
   "outputs": [
    {
     "name": "stderr",
     "output_type": "stream",
     "text": [
      "/home/ec2-user/anaconda3/envs/tensorflow2_p310/lib/python3.10/site-packages/fsspec/registry.py:283: UserWarning: Your installed version of s3fs is very old and known to cause\n",
      "severe performance issues, see also https://github.com/dask/dask/issues/10276\n",
      "\n",
      "To fix, you should specify a lower version bound on s3fs, or\n",
      "update the current installation.\n",
      "\n",
      "  warnings.warn(s3_msg)\n"
     ]
    },
    {
     "data": {
      "text/html": [
       "<pre style=\"white-space:pre;overflow-x:auto;line-height:normal;font-family:Menlo,'DejaVu Sans Mono',consolas,'Courier New',monospace\"><span style=\"color: #7fbfbf; text-decoration-color: #7fbfbf\">[04/04/25 17:10:24] </span><span style=\"color: #0069ff; text-decoration-color: #0069ff; font-weight: bold\">INFO    </span> Found credentials from IAM Role:                                   <a href=\"file:///home/ec2-user/anaconda3/envs/tensorflow2_p310/lib/python3.10/site-packages/botocore/credentials.py\" target=\"_blank\"><span style=\"color: #7f7f7f; text-decoration-color: #7f7f7f\">credentials.py</span></a><span style=\"color: #7f7f7f; text-decoration-color: #7f7f7f\">:</span><a href=\"file:///home/ec2-user/anaconda3/envs/tensorflow2_p310/lib/python3.10/site-packages/botocore/credentials.py#1132\" target=\"_blank\"><span style=\"color: #7f7f7f; text-decoration-color: #7f7f7f\">1132</span></a>\n",
       "<span style=\"color: #7fbfbf; text-decoration-color: #7fbfbf\">                    </span>         BaseNotebookInstanceEc2InstanceRole                                <span style=\"color: #7f7f7f; text-decoration-color: #7f7f7f\">                   </span>\n",
       "</pre>\n"
      ],
      "text/plain": [
       "\u001B[2;36m[04/04/25 17:10:24]\u001B[0m\u001B[2;36m \u001B[0m\u001B[1;38;2;0;105;255mINFO    \u001B[0m Found credentials from IAM Role:                                   \u001B]8;id=228237;file:///home/ec2-user/anaconda3/envs/tensorflow2_p310/lib/python3.10/site-packages/botocore/credentials.py\u001B\\\u001B[2mcredentials.py\u001B[0m\u001B]8;;\u001B\\\u001B[2m:\u001B[0m\u001B]8;id=726242;file:///home/ec2-user/anaconda3/envs/tensorflow2_p310/lib/python3.10/site-packages/botocore/credentials.py#1132\u001B\\\u001B[2m1132\u001B[0m\u001B]8;;\u001B\\\n",
       "\u001B[2;36m                    \u001B[0m         BaseNotebookInstanceEc2InstanceRole                                \u001B[2m                   \u001B[0m\n"
      ]
     },
     "metadata": {},
     "output_type": "display_data"
    },
    {
     "name": "stdout",
     "output_type": "stream",
     "text": [
      "Sample Data:\n"
     ]
    },
    {
     "data": {
      "text/html": [
       "<div>\n",
       "<style scoped>\n",
       "    .dataframe tbody tr th:only-of-type {\n",
       "        vertical-align: middle;\n",
       "    }\n",
       "\n",
       "    .dataframe tbody tr th {\n",
       "        vertical-align: top;\n",
       "    }\n",
       "\n",
       "    .dataframe thead th {\n",
       "        text-align: right;\n",
       "    }\n",
       "</style>\n",
       "<table border=\"1\" class=\"dataframe\">\n",
       "  <thead>\n",
       "    <tr style=\"text-align: right;\">\n",
       "      <th></th>\n",
       "      <th>year</th>\n",
       "      <th>month</th>\n",
       "      <th>day</th>\n",
       "      <th>day_of_week</th>\n",
       "      <th>description</th>\n",
       "      <th>amount</th>\n",
       "      <th>is_zero</th>\n",
       "      <th>is_negative_zero</th>\n",
       "      <th>label</th>\n",
       "    </tr>\n",
       "  </thead>\n",
       "  <tbody>\n",
       "    <tr>\n",
       "      <th>0</th>\n",
       "      <td>2020</td>\n",
       "      <td>11</td>\n",
       "      <td>25</td>\n",
       "      <td>2</td>\n",
       "      <td>Bank Transaction Check Deposit</td>\n",
       "      <td>-0.0</td>\n",
       "      <td>1</td>\n",
       "      <td>1</td>\n",
       "      <td>1</td>\n",
       "    </tr>\n",
       "    <tr>\n",
       "      <th>1</th>\n",
       "      <td>2022</td>\n",
       "      <td>3</td>\n",
       "      <td>1</td>\n",
       "      <td>1</td>\n",
       "      <td>Bank Transaction Account Transfer</td>\n",
       "      <td>-0.0</td>\n",
       "      <td>1</td>\n",
       "      <td>1</td>\n",
       "      <td>1</td>\n",
       "    </tr>\n",
       "    <tr>\n",
       "      <th>2</th>\n",
       "      <td>2021</td>\n",
       "      <td>3</td>\n",
       "      <td>29</td>\n",
       "      <td>0</td>\n",
       "      <td>Bank Transaction Check Deposit</td>\n",
       "      <td>-0.0</td>\n",
       "      <td>1</td>\n",
       "      <td>1</td>\n",
       "      <td>1</td>\n",
       "    </tr>\n",
       "    <tr>\n",
       "      <th>3</th>\n",
       "      <td>2020</td>\n",
       "      <td>9</td>\n",
       "      <td>8</td>\n",
       "      <td>1</td>\n",
       "      <td>Bank Transaction Check Deposit</td>\n",
       "      <td>-0.0</td>\n",
       "      <td>1</td>\n",
       "      <td>1</td>\n",
       "      <td>1</td>\n",
       "    </tr>\n",
       "    <tr>\n",
       "      <th>4</th>\n",
       "      <td>2020</td>\n",
       "      <td>12</td>\n",
       "      <td>11</td>\n",
       "      <td>4</td>\n",
       "      <td>Bank Transaction Check Deposit</td>\n",
       "      <td>0.0</td>\n",
       "      <td>1</td>\n",
       "      <td>0</td>\n",
       "      <td>1</td>\n",
       "    </tr>\n",
       "  </tbody>\n",
       "</table>\n",
       "</div>"
      ],
      "text/plain": [
       "   year  month  day  day_of_week                        description  amount  \\\n",
       "0  2020     11   25            2     Bank Transaction Check Deposit    -0.0   \n",
       "1  2022      3    1            1  Bank Transaction Account Transfer    -0.0   \n",
       "2  2021      3   29            0     Bank Transaction Check Deposit    -0.0   \n",
       "3  2020      9    8            1     Bank Transaction Check Deposit    -0.0   \n",
       "4  2020     12   11            4     Bank Transaction Check Deposit     0.0   \n",
       "\n",
       "   is_zero  is_negative_zero  label  \n",
       "0        1                 1      1  \n",
       "1        1                 1      1  \n",
       "2        1                 1      1  \n",
       "3        1                 1      1  \n",
       "4        1                 0      1  "
      ]
     },
     "metadata": {},
     "output_type": "display_data"
    },
    {
     "name": "stdout",
     "output_type": "stream",
     "text": [
      "\n",
      "Label Distribution:\n",
      "1    147\n",
      "0    147\n",
      "Name: label, dtype: int64\n"
     ]
    }
   ],
   "source": [
    "import pandas as pd\n",
    "\n",
    "s3_uri = f's3://{bucket}/{prefix}/training-data.csv'\n",
    "df = pd.read_csv(s3_uri)\n",
    "\n",
    "print(\"Sample Data:\")\n",
    "display(df.head())\n",
    "print(\"\\nLabel Distribution:\")\n",
    "print(df['label'].value_counts())"
   ]
  },
  {
   "cell_type": "markdown",
   "id": "70be486f321fdf35",
   "metadata": {},
   "source": [
    "# Preprocess Data\n",
    "\n",
    "This section encodes the categorical `description` column and prepares the features and labels. The dataset is then split into training and test sets using stratified sampling to preserve class distribution.\n"
   ]
  },
  {
   "cell_type": "code",
   "execution_count": 3,
   "id": "e7e239c8c5d068c2",
   "metadata": {},
   "outputs": [],
   "source": [
    "from sklearn.model_selection import train_test_split\n",
    "\n",
    "df['description'] = df['description'].astype(\"category\").cat.codes\n",
    "features = df.drop(\"label\", axis=1)\n",
    "labels = df[\"label\"]\n",
    "\n",
    "X_train, X_test, y_train, y_test = train_test_split(\n",
    "    features, labels, test_size=0.2, stratify=labels, random_state=42\n",
    ")"
   ]
  },
  {
   "cell_type": "markdown",
   "id": "ca5a223bad10b544",
   "metadata": {},
   "source": [
    "# Save and Upload Train/Test Sets to S3\n",
    "\n",
    "The training and testing datasets are saved locally and uploaded to S3 so they can be used by the SageMaker training job.\n"
   ]
  },
  {
   "cell_type": "code",
   "execution_count": 4,
   "id": "989b5fc34a2bdd45",
   "metadata": {},
   "outputs": [],
   "source": [
    "train_data = pd.concat([y_train, X_train], axis=1)\n",
    "test_data = pd.concat([y_test, X_test], axis=1)\n",
    "\n",
    "train_file = 'train.csv'\n",
    "test_file = 'test.csv'\n",
    "\n",
    "train_data.to_csv(train_file, header=False, index=False)\n",
    "test_data.to_csv(test_file, header=False, index=False)\n",
    "\n",
    "train_s3_path = session.upload_data(train_file, bucket=bucket, key_prefix=f'{prefix}/xgboost')\n",
    "test_s3_path = session.upload_data(test_file, bucket=bucket, key_prefix=f'{prefix}/xgboost')"
   ]
  },
  {
   "cell_type": "markdown",
   "id": "bb2e582c8e61ef65",
   "metadata": {},
   "source": [
    "# Train XGBoost Model\n",
    "\n",
    "This section defines the XGBoost training job using SageMaker's built-in XGBoost container. It specifies the hyperparameters and starts the training job using the datasets uploaded to S3.\n"
   ]
  },
  {
   "cell_type": "code",
   "execution_count": 5,
   "id": "98da30cc167c88c",
   "metadata": {},
   "outputs": [
    {
     "data": {
      "text/html": [
       "<pre style=\"white-space:pre;overflow-x:auto;line-height:normal;font-family:Menlo,'DejaVu Sans Mono',consolas,'Courier New',monospace\"><span style=\"color: #7fbfbf; text-decoration-color: #7fbfbf\">[04/04/25 17:10:25] </span><span style=\"color: #0069ff; text-decoration-color: #0069ff; font-weight: bold\">INFO    </span> Ignoring unnecessary instance type: <span style=\"color: #e100e1; text-decoration-color: #e100e1; font-style: italic\">None</span>.                            <a href=\"file:///home/ec2-user/anaconda3/envs/tensorflow2_p310/lib/python3.10/site-packages/sagemaker/image_uris.py\" target=\"_blank\"><span style=\"color: #7f7f7f; text-decoration-color: #7f7f7f\">image_uris.py</span></a><span style=\"color: #7f7f7f; text-decoration-color: #7f7f7f\">:</span><a href=\"file:///home/ec2-user/anaconda3/envs/tensorflow2_p310/lib/python3.10/site-packages/sagemaker/image_uris.py#530\" target=\"_blank\"><span style=\"color: #7f7f7f; text-decoration-color: #7f7f7f\">530</span></a>\n",
       "</pre>\n"
      ],
      "text/plain": [
       "\u001B[2;36m[04/04/25 17:10:25]\u001B[0m\u001B[2;36m \u001B[0m\u001B[1;38;2;0;105;255mINFO    \u001B[0m Ignoring unnecessary instance type: \u001B[3;38;2;225;0;225mNone\u001B[0m.                            \u001B]8;id=101622;file:///home/ec2-user/anaconda3/envs/tensorflow2_p310/lib/python3.10/site-packages/sagemaker/image_uris.py\u001B\\\u001B[2mimage_uris.py\u001B[0m\u001B]8;;\u001B\\\u001B[2m:\u001B[0m\u001B]8;id=584117;file:///home/ec2-user/anaconda3/envs/tensorflow2_p310/lib/python3.10/site-packages/sagemaker/image_uris.py#530\u001B\\\u001B[2m530\u001B[0m\u001B]8;;\u001B\\\n"
      ]
     },
     "metadata": {},
     "output_type": "display_data"
    },
    {
     "data": {
      "text/html": [
       "<pre style=\"white-space:pre;overflow-x:auto;line-height:normal;font-family:Menlo,'DejaVu Sans Mono',consolas,'Courier New',monospace\"><span style=\"color: #7fbfbf; text-decoration-color: #7fbfbf\">                    </span><span style=\"color: #0069ff; text-decoration-color: #0069ff; font-weight: bold\">INFO    </span> Found credentials from IAM Role:                                   <a href=\"file:///home/ec2-user/anaconda3/envs/tensorflow2_p310/lib/python3.10/site-packages/botocore/credentials.py\" target=\"_blank\"><span style=\"color: #7f7f7f; text-decoration-color: #7f7f7f\">credentials.py</span></a><span style=\"color: #7f7f7f; text-decoration-color: #7f7f7f\">:</span><a href=\"file:///home/ec2-user/anaconda3/envs/tensorflow2_p310/lib/python3.10/site-packages/botocore/credentials.py#1132\" target=\"_blank\"><span style=\"color: #7f7f7f; text-decoration-color: #7f7f7f\">1132</span></a>\n",
       "<span style=\"color: #7fbfbf; text-decoration-color: #7fbfbf\">                    </span>         BaseNotebookInstanceEc2InstanceRole                                <span style=\"color: #7f7f7f; text-decoration-color: #7f7f7f\">                   </span>\n",
       "</pre>\n"
      ],
      "text/plain": [
       "\u001B[2;36m                   \u001B[0m\u001B[2;36m \u001B[0m\u001B[1;38;2;0;105;255mINFO    \u001B[0m Found credentials from IAM Role:                                   \u001B]8;id=473397;file:///home/ec2-user/anaconda3/envs/tensorflow2_p310/lib/python3.10/site-packages/botocore/credentials.py\u001B\\\u001B[2mcredentials.py\u001B[0m\u001B]8;;\u001B\\\u001B[2m:\u001B[0m\u001B]8;id=328611;file:///home/ec2-user/anaconda3/envs/tensorflow2_p310/lib/python3.10/site-packages/botocore/credentials.py#1132\u001B\\\u001B[2m1132\u001B[0m\u001B]8;;\u001B\\\n",
       "\u001B[2;36m                    \u001B[0m         BaseNotebookInstanceEc2InstanceRole                                \u001B[2m                   \u001B[0m\n"
      ]
     },
     "metadata": {},
     "output_type": "display_data"
    },
    {
     "data": {
      "text/html": [
       "<pre style=\"white-space:pre;overflow-x:auto;line-height:normal;font-family:Menlo,'DejaVu Sans Mono',consolas,'Courier New',monospace\"><span style=\"color: #7fbfbf; text-decoration-color: #7fbfbf\">                    </span><span style=\"color: #0069ff; text-decoration-color: #0069ff; font-weight: bold\">INFO    </span> SageMaker Python SDK will collect telemetry to help us better  <a href=\"file:///home/ec2-user/anaconda3/envs/tensorflow2_p310/lib/python3.10/site-packages/sagemaker/telemetry/telemetry_logging.py\" target=\"_blank\"><span style=\"color: #7f7f7f; text-decoration-color: #7f7f7f\">telemetry_logging.py</span></a><span style=\"color: #7f7f7f; text-decoration-color: #7f7f7f\">:</span><a href=\"file:///home/ec2-user/anaconda3/envs/tensorflow2_p310/lib/python3.10/site-packages/sagemaker/telemetry/telemetry_logging.py#91\" target=\"_blank\"><span style=\"color: #7f7f7f; text-decoration-color: #7f7f7f\">91</span></a>\n",
       "<span style=\"color: #7fbfbf; text-decoration-color: #7fbfbf\">                    </span>         understand our user's needs, diagnose issues, and deliver      <span style=\"color: #7f7f7f; text-decoration-color: #7f7f7f\">                       </span>\n",
       "<span style=\"color: #7fbfbf; text-decoration-color: #7fbfbf\">                    </span>         additional features.                                           <span style=\"color: #7f7f7f; text-decoration-color: #7f7f7f\">                       </span>\n",
       "<span style=\"color: #7fbfbf; text-decoration-color: #7fbfbf\">                    </span>         To opt out of telemetry, please disable via TelemetryOptOut    <span style=\"color: #7f7f7f; text-decoration-color: #7f7f7f\">                       </span>\n",
       "<span style=\"color: #7fbfbf; text-decoration-color: #7fbfbf\">                    </span>         parameter in SDK defaults config. For more information, refer  <span style=\"color: #7f7f7f; text-decoration-color: #7f7f7f\">                       </span>\n",
       "<span style=\"color: #7fbfbf; text-decoration-color: #7fbfbf\">                    </span>         to                                                             <span style=\"color: #7f7f7f; text-decoration-color: #7f7f7f\">                       </span>\n",
       "<span style=\"color: #7fbfbf; text-decoration-color: #7fbfbf\">                    </span>         <span style=\"color: #0069ff; text-decoration-color: #0069ff; text-decoration: underline\">https://sagemaker.readthedocs.io/en/stable/overview.html#confi</span> <span style=\"color: #7f7f7f; text-decoration-color: #7f7f7f\">                       </span>\n",
       "<span style=\"color: #7fbfbf; text-decoration-color: #7fbfbf\">                    </span>         <span style=\"color: #0069ff; text-decoration-color: #0069ff; text-decoration: underline\">guring-and-using-defaults-with-the-sagemaker-python-sdk.</span>       <span style=\"color: #7f7f7f; text-decoration-color: #7f7f7f\">                       </span>\n",
       "</pre>\n"
      ],
      "text/plain": [
       "\u001B[2;36m                   \u001B[0m\u001B[2;36m \u001B[0m\u001B[1;38;2;0;105;255mINFO    \u001B[0m SageMaker Python SDK will collect telemetry to help us better  \u001B]8;id=520521;file:///home/ec2-user/anaconda3/envs/tensorflow2_p310/lib/python3.10/site-packages/sagemaker/telemetry/telemetry_logging.py\u001B\\\u001B[2mtelemetry_logging.py\u001B[0m\u001B]8;;\u001B\\\u001B[2m:\u001B[0m\u001B]8;id=923131;file:///home/ec2-user/anaconda3/envs/tensorflow2_p310/lib/python3.10/site-packages/sagemaker/telemetry/telemetry_logging.py#91\u001B\\\u001B[2m91\u001B[0m\u001B]8;;\u001B\\\n",
       "\u001B[2;36m                    \u001B[0m         understand our user's needs, diagnose issues, and deliver      \u001B[2m                       \u001B[0m\n",
       "\u001B[2;36m                    \u001B[0m         additional features.                                           \u001B[2m                       \u001B[0m\n",
       "\u001B[2;36m                    \u001B[0m         To opt out of telemetry, please disable via TelemetryOptOut    \u001B[2m                       \u001B[0m\n",
       "\u001B[2;36m                    \u001B[0m         parameter in SDK defaults config. For more information, refer  \u001B[2m                       \u001B[0m\n",
       "\u001B[2;36m                    \u001B[0m         to                                                             \u001B[2m                       \u001B[0m\n",
       "\u001B[2;36m                    \u001B[0m         \u001B[4;38;2;0;105;255mhttps://sagemaker.readthedocs.io/en/stable/overview.html#confi\u001B[0m \u001B[2m                       \u001B[0m\n",
       "\u001B[2;36m                    \u001B[0m         \u001B[4;38;2;0;105;255mguring-and-using-defaults-with-the-sagemaker-python-sdk.\u001B[0m       \u001B[2m                       \u001B[0m\n"
      ]
     },
     "metadata": {},
     "output_type": "display_data"
    },
    {
     "data": {
      "text/html": [
       "<pre style=\"white-space:pre;overflow-x:auto;line-height:normal;font-family:Menlo,'DejaVu Sans Mono',consolas,'Courier New',monospace\"><span style=\"color: #7fbfbf; text-decoration-color: #7fbfbf\">                    </span><span style=\"color: #0069ff; text-decoration-color: #0069ff; font-weight: bold\">INFO    </span> Creating training-job with name:                                       <a href=\"file:///home/ec2-user/anaconda3/envs/tensorflow2_p310/lib/python3.10/site-packages/sagemaker/session.py\" target=\"_blank\"><span style=\"color: #7f7f7f; text-decoration-color: #7f7f7f\">session.py</span></a><span style=\"color: #7f7f7f; text-decoration-color: #7f7f7f\">:</span><a href=\"file:///home/ec2-user/anaconda3/envs/tensorflow2_p310/lib/python3.10/site-packages/sagemaker/session.py#1042\" target=\"_blank\"><span style=\"color: #7f7f7f; text-decoration-color: #7f7f7f\">1042</span></a>\n",
       "<span style=\"color: #7fbfbf; text-decoration-color: #7fbfbf\">                    </span>         sagemaker-xgboost-<span style=\"color: #008080; text-decoration-color: #008080; font-weight: bold\">2025</span>-04-04-17-10-25-504                              <span style=\"color: #7f7f7f; text-decoration-color: #7f7f7f\">               </span>\n",
       "</pre>\n"
      ],
      "text/plain": [
       "\u001B[2;36m                   \u001B[0m\u001B[2;36m \u001B[0m\u001B[1;38;2;0;105;255mINFO    \u001B[0m Creating training-job with name:                                       \u001B]8;id=591572;file:///home/ec2-user/anaconda3/envs/tensorflow2_p310/lib/python3.10/site-packages/sagemaker/session.py\u001B\\\u001B[2msession.py\u001B[0m\u001B]8;;\u001B\\\u001B[2m:\u001B[0m\u001B]8;id=197478;file:///home/ec2-user/anaconda3/envs/tensorflow2_p310/lib/python3.10/site-packages/sagemaker/session.py#1042\u001B\\\u001B[2m1042\u001B[0m\u001B]8;;\u001B\\\n",
       "\u001B[2;36m                    \u001B[0m         sagemaker-xgboost-\u001B[1;36m2025\u001B[0m-04-04-17-10-25-504                              \u001B[2m               \u001B[0m\n"
      ]
     },
     "metadata": {},
     "output_type": "display_data"
    },
    {
     "name": "stdout",
     "output_type": "stream",
     "text": [
      "2025-04-04 17:10:25 Starting - Starting the training job......\n",
      "2025-04-04 17:11:21 Pending - Training job waiting for capacity......\n",
      "2025-04-04 17:12:19 Pending - Preparing the instances for training...\n",
      "2025-04-04 17:12:51 Downloading - Downloading input data...\n",
      "2025-04-04 17:13:11 Downloading - Downloading the training image...\n",
      "2025-04-04 17:13:52 Training - Training image download completed. Training in progress....\n",
      "2025-04-04 17:14:23 Uploading - Uploading generated training model\u001B[34m[2025-04-04 17:14:15.372 ip-10-2-234-218.ec2.internal:13 INFO utils.py:28] RULE_JOB_STOP_SIGNAL_FILENAME: None\u001B[0m\n",
      "\u001B[34m[2025-04-04 17:14:15.400 ip-10-2-234-218.ec2.internal:13 INFO profiler_config_parser.py:111] User has disabled profiler.\u001B[0m\n",
      "\u001B[34m[2025-04-04:17:14:15:INFO] Imported framework sagemaker_xgboost_container.training\u001B[0m\n",
      "\u001B[34m[2025-04-04:17:14:15:INFO] Failed to parse hyperparameter objective value binary:logistic to Json.\u001B[0m\n",
      "\u001B[34mReturning the value itself\u001B[0m\n",
      "\u001B[34m[2025-04-04:17:14:15:INFO] Running XGBoost Sagemaker in algorithm mode\u001B[0m\n",
      "\u001B[34m[2025-04-04:17:14:15:INFO] Determined delimiter of CSV input is ','\u001B[0m\n",
      "\u001B[34m[2025-04-04:17:14:15:INFO] Determined delimiter of CSV input is ','\u001B[0m\n",
      "\u001B[34m[2025-04-04:17:14:15:INFO] files path: /opt/ml/input/data/train\u001B[0m\n",
      "\u001B[34m[2025-04-04:17:14:15:INFO] Determined delimiter of CSV input is ','\u001B[0m\n",
      "\u001B[34m[2025-04-04:17:14:15:INFO] files path: /opt/ml/input/data/validation\u001B[0m\n",
      "\u001B[34m[2025-04-04:17:14:15:INFO] Determined delimiter of CSV input is ','\u001B[0m\n",
      "\u001B[34m[2025-04-04:17:14:15:INFO] Single node training.\u001B[0m\n",
      "\u001B[34m[2025-04-04:17:14:15:INFO] Train matrix has 235 rows and 8 columns\u001B[0m\n",
      "\u001B[34m[2025-04-04:17:14:15:INFO] Validation matrix has 59 rows\u001B[0m\n",
      "\u001B[34m[2025-04-04 17:14:15.475 ip-10-2-234-218.ec2.internal:13 INFO json_config.py:92] Creating hook from json_config at /opt/ml/input/config/debughookconfig.json.\u001B[0m\n",
      "\u001B[34m[2025-04-04 17:14:15.476 ip-10-2-234-218.ec2.internal:13 INFO hook.py:207] tensorboard_dir has not been set for the hook. SMDebug will not be exporting tensorboard summaries.\u001B[0m\n",
      "\u001B[34m[2025-04-04 17:14:15.476 ip-10-2-234-218.ec2.internal:13 INFO hook.py:259] Saving to /opt/ml/output/tensors\u001B[0m\n",
      "\u001B[34m[2025-04-04 17:14:15.477 ip-10-2-234-218.ec2.internal:13 INFO state_store.py:77] The checkpoint config file /opt/ml/input/config/checkpointconfig.json does not exist.\u001B[0m\n",
      "\u001B[34m[2025-04-04:17:14:15:INFO] Debug hook created from config\u001B[0m\n",
      "\u001B[34m[17:14:15] WARNING: ../src/learner.cc:1061: Starting in XGBoost 1.3.0, the default evaluation metric used with the objective 'binary:logistic' was changed from 'error' to 'logloss'. Explicitly set eval_metric if you'd like to restore the old behavior.\u001B[0m\n",
      "\u001B[34m[0]#011train-logloss:0.51944#011validation-logloss:0.51943\u001B[0m\n",
      "\u001B[34m[2025-04-04 17:14:15.906 ip-10-2-234-218.ec2.internal:13 INFO hook.py:428] Monitoring the collections: metrics\u001B[0m\n",
      "\u001B[34m[2025-04-04 17:14:15.910 ip-10-2-234-218.ec2.internal:13 INFO hook.py:491] Hook is writing from the hook with pid: 13\u001B[0m\n",
      "\u001B[34m[1]#011train-logloss:0.40523#011validation-logloss:0.40460\u001B[0m\n",
      "\u001B[34m[2]#011train-logloss:0.31867#011validation-logloss:0.31815\u001B[0m\n",
      "\u001B[34m[3]#011train-logloss:0.25384#011validation-logloss:0.25341\u001B[0m\n",
      "\u001B[34m[4]#011train-logloss:0.20432#011validation-logloss:0.20397\u001B[0m\n",
      "\u001B[34m[5]#011train-logloss:0.16571#011validation-logloss:0.16543\u001B[0m\n",
      "\u001B[34m[6]#011train-logloss:0.13736#011validation-logloss:0.13685\u001B[0m\n",
      "\u001B[34m[7]#011train-logloss:0.11285#011validation-logloss:0.11243\u001B[0m\n",
      "\u001B[34m[8]#011train-logloss:0.09315#011validation-logloss:0.09279\u001B[0m\n",
      "\u001B[34m[9]#011train-logloss:0.07736#011validation-logloss:0.07706\u001B[0m\n",
      "\u001B[34m[10]#011train-logloss:0.06460#011validation-logloss:0.06435\u001B[0m\n",
      "\u001B[34m[11]#011train-logloss:0.05428#011validation-logloss:0.05407\u001B[0m\n",
      "\u001B[34m[12]#011train-logloss:0.04585#011validation-logloss:0.04567\u001B[0m\n",
      "\u001B[34m[13]#011train-logloss:0.03887#011validation-logloss:0.03872\u001B[0m\n",
      "\u001B[34m[14]#011train-logloss:0.03317#011validation-logloss:0.03304\u001B[0m\n",
      "\u001B[34m[15]#011train-logloss:0.02850#011validation-logloss:0.02839\u001B[0m\n",
      "\u001B[34m[16]#011train-logloss:0.02456#011validation-logloss:0.02447\u001B[0m\n",
      "\u001B[34m[17]#011train-logloss:0.02136#011validation-logloss:0.02128\u001B[0m\n",
      "\u001B[34m[18]#011train-logloss:0.01867#011validation-logloss:0.01859\u001B[0m\n",
      "\u001B[34m[19]#011train-logloss:0.01642#011validation-logloss:0.01636\u001B[0m\n",
      "\u001B[34m[20]#011train-logloss:0.01452#011validation-logloss:0.01447\u001B[0m\n",
      "\u001B[34m[21]#011train-logloss:0.01301#011validation-logloss:0.01295\u001B[0m\n",
      "\u001B[34m[22]#011train-logloss:0.01165#011validation-logloss:0.01161\u001B[0m\n",
      "\u001B[34m[23]#011train-logloss:0.01166#011validation-logloss:0.01161\u001B[0m\n",
      "\u001B[34m[24]#011train-logloss:0.01051#011validation-logloss:0.01047\u001B[0m\n",
      "\u001B[34m[25]#011train-logloss:0.01051#011validation-logloss:0.01047\u001B[0m\n",
      "\u001B[34m[26]#011train-logloss:0.01051#011validation-logloss:0.01047\u001B[0m\n",
      "\u001B[34m[27]#011train-logloss:0.00947#011validation-logloss:0.00943\u001B[0m\n",
      "\u001B[34m[28]#011train-logloss:0.00947#011validation-logloss:0.00943\u001B[0m\n",
      "\u001B[34m[29]#011train-logloss:0.00947#011validation-logloss:0.00943\u001B[0m\n",
      "\u001B[34m[30]#011train-logloss:0.00947#011validation-logloss:0.00943\u001B[0m\n",
      "\u001B[34m[31]#011train-logloss:0.00947#011validation-logloss:0.00943\u001B[0m\n",
      "\u001B[34m[32]#011train-logloss:0.00947#011validation-logloss:0.00943\u001B[0m\n",
      "\u001B[34m[33]#011train-logloss:0.00947#011validation-logloss:0.00943\u001B[0m\n",
      "\u001B[34m[34]#011train-logloss:0.00947#011validation-logloss:0.00943\u001B[0m\n",
      "\u001B[34m[35]#011train-logloss:0.00947#011validation-logloss:0.00943\u001B[0m\n",
      "\u001B[34m[36]#011train-logloss:0.00947#011validation-logloss:0.00943\u001B[0m\n",
      "\u001B[34m[37]#011train-logloss:0.00947#011validation-logloss:0.00943\u001B[0m\n",
      "\u001B[34m[38]#011train-logloss:0.00947#011validation-logloss:0.00943\u001B[0m\n",
      "\u001B[34m[39]#011train-logloss:0.00947#011validation-logloss:0.00943\u001B[0m\n",
      "\u001B[34m[40]#011train-logloss:0.00947#011validation-logloss:0.00943\u001B[0m\n",
      "\u001B[34m[41]#011train-logloss:0.00947#011validation-logloss:0.00943\u001B[0m\n",
      "\u001B[34m[42]#011train-logloss:0.00947#011validation-logloss:0.00943\u001B[0m\n",
      "\u001B[34m[43]#011train-logloss:0.00947#011validation-logloss:0.00943\u001B[0m\n",
      "\u001B[34m[44]#011train-logloss:0.00947#011validation-logloss:0.00943\u001B[0m\n",
      "\u001B[34m[45]#011train-logloss:0.00947#011validation-logloss:0.00943\u001B[0m\n",
      "\u001B[34m[46]#011train-logloss:0.00947#011validation-logloss:0.00943\u001B[0m\n",
      "\u001B[34m[47]#011train-logloss:0.00947#011validation-logloss:0.00943\u001B[0m\n",
      "\u001B[34m[48]#011train-logloss:0.00947#011validation-logloss:0.00943\u001B[0m\n",
      "\u001B[34m[49]#011train-logloss:0.00947#011validation-logloss:0.00943\u001B[0m\n",
      "\u001B[34m[50]#011train-logloss:0.00947#011validation-logloss:0.00943\u001B[0m\n",
      "\u001B[34m[51]#011train-logloss:0.00947#011validation-logloss:0.00943\u001B[0m\n",
      "\u001B[34m[52]#011train-logloss:0.00947#011validation-logloss:0.00943\u001B[0m\n",
      "\u001B[34m[53]#011train-logloss:0.00947#011validation-logloss:0.00943\u001B[0m\n",
      "\u001B[34m[54]#011train-logloss:0.00947#011validation-logloss:0.00943\u001B[0m\n",
      "\u001B[34m[55]#011train-logloss:0.00947#011validation-logloss:0.00943\u001B[0m\n",
      "\u001B[34m[56]#011train-logloss:0.00947#011validation-logloss:0.00943\u001B[0m\n",
      "\u001B[34m[57]#011train-logloss:0.00947#011validation-logloss:0.00943\u001B[0m\n",
      "\u001B[34m[58]#011train-logloss:0.00947#011validation-logloss:0.00943\u001B[0m\n",
      "\u001B[34m[59]#011train-logloss:0.00947#011validation-logloss:0.00943\u001B[0m\n",
      "\u001B[34m[60]#011train-logloss:0.00947#011validation-logloss:0.00943\u001B[0m\n",
      "\u001B[34m[61]#011train-logloss:0.00947#011validation-logloss:0.00943\u001B[0m\n",
      "\u001B[34m[62]#011train-logloss:0.00947#011validation-logloss:0.00943\u001B[0m\n",
      "\u001B[34m[63]#011train-logloss:0.00947#011validation-logloss:0.00943\u001B[0m\n",
      "\u001B[34m[64]#011train-logloss:0.00947#011validation-logloss:0.00943\u001B[0m\n",
      "\u001B[34m[65]#011train-logloss:0.00947#011validation-logloss:0.00944\u001B[0m\n",
      "\u001B[34m[66]#011train-logloss:0.00947#011validation-logloss:0.00943\u001B[0m\n",
      "\u001B[34m[67]#011train-logloss:0.00947#011validation-logloss:0.00944\u001B[0m\n",
      "\u001B[34m[68]#011train-logloss:0.00947#011validation-logloss:0.00944\u001B[0m\n",
      "\u001B[34m[69]#011train-logloss:0.00947#011validation-logloss:0.00944\u001B[0m\n",
      "\u001B[34m[70]#011train-logloss:0.00947#011validation-logloss:0.00944\u001B[0m\n",
      "\u001B[34m[71]#011train-logloss:0.00947#011validation-logloss:0.00944\u001B[0m\n",
      "\u001B[34m[72]#011train-logloss:0.00947#011validation-logloss:0.00944\u001B[0m\n",
      "\u001B[34m[73]#011train-logloss:0.00947#011validation-logloss:0.00944\u001B[0m\n",
      "\u001B[34m[74]#011train-logloss:0.00947#011validation-logloss:0.00944\u001B[0m\n",
      "\u001B[34m[75]#011train-logloss:0.00947#011validation-logloss:0.00944\u001B[0m\n",
      "\u001B[34m[76]#011train-logloss:0.00947#011validation-logloss:0.00944\u001B[0m\n",
      "\u001B[34m[77]#011train-logloss:0.00947#011validation-logloss:0.00944\u001B[0m\n",
      "\u001B[34m[78]#011train-logloss:0.00947#011validation-logloss:0.00944\u001B[0m\n",
      "\u001B[34m[79]#011train-logloss:0.00947#011validation-logloss:0.00944\u001B[0m\n",
      "\u001B[34m[80]#011train-logloss:0.00947#011validation-logloss:0.00944\u001B[0m\n",
      "\u001B[34m[81]#011train-logloss:0.00947#011validation-logloss:0.00943\u001B[0m\n",
      "\u001B[34m[82]#011train-logloss:0.00947#011validation-logloss:0.00943\u001B[0m\n",
      "\u001B[34m[83]#011train-logloss:0.00947#011validation-logloss:0.00944\u001B[0m\n",
      "\u001B[34m[84]#011train-logloss:0.00947#011validation-logloss:0.00944\u001B[0m\n",
      "\u001B[34m[85]#011train-logloss:0.00947#011validation-logloss:0.00944\u001B[0m\n",
      "\u001B[34m[86]#011train-logloss:0.00947#011validation-logloss:0.00943\u001B[0m\n",
      "\u001B[34m[87]#011train-logloss:0.00947#011validation-logloss:0.00944\u001B[0m\n",
      "\u001B[34m[88]#011train-logloss:0.00947#011validation-logloss:0.00943\u001B[0m\n",
      "\u001B[34m[89]#011train-logloss:0.00947#011validation-logloss:0.00943\u001B[0m\n",
      "\u001B[34m[90]#011train-logloss:0.00947#011validation-logloss:0.00943\u001B[0m\n",
      "\u001B[34m[91]#011train-logloss:0.00947#011validation-logloss:0.00943\u001B[0m\n",
      "\u001B[34m[92]#011train-logloss:0.00947#011validation-logloss:0.00943\u001B[0m\n",
      "\u001B[34m[93]#011train-logloss:0.00947#011validation-logloss:0.00943\u001B[0m\n",
      "\u001B[34m[94]#011train-logloss:0.00947#011validation-logloss:0.00943\u001B[0m\n",
      "\u001B[34m[95]#011train-logloss:0.00947#011validation-logloss:0.00943\u001B[0m\n",
      "\u001B[34m[96]#011train-logloss:0.00947#011validation-logloss:0.00943\u001B[0m\n",
      "\u001B[34m[97]#011train-logloss:0.00947#011validation-logloss:0.00943\u001B[0m\n",
      "\u001B[34m[98]#011train-logloss:0.00947#011validation-logloss:0.00944\u001B[0m\n",
      "\u001B[34m[99]#011train-logloss:0.00947#011validation-logloss:0.00944\u001B[0m\n",
      "\n",
      "2025-04-04 17:14:36 Completed - Training job completed\n",
      "Training seconds: 105\n",
      "Billable seconds: 105\n"
     ]
    }
   ],
   "source": [
    "from sagemaker.inputs import TrainingInput\n",
    "\n",
    "container = sagemaker.image_uris.retrieve(\"xgboost\", session.boto_region_name, \"1.7-1\")\n",
    "\n",
    "xgb_estimator = sagemaker.estimator.Estimator(\n",
    "    image_uri=container,\n",
    "    role=role,\n",
    "    instance_count=1,\n",
    "    instance_type=\"ml.p3.2xlarge\",\n",
    "    output_path=f's3://{bucket}/{prefix}/output',\n",
    "    sagemaker_session=session\n",
    ")\n",
    "\n",
    "xgb_estimator.set_hyperparameters(\n",
    "    objective=\"binary:logistic\",\n",
    "    num_round=100,\n",
    "    max_depth=5,\n",
    "    eta=0.2,\n",
    "    subsample=0.8,\n",
    "    colsample_bytree=0.8\n",
    ")\n",
    "\n",
    "xgb_estimator.fit({\n",
    "    \"train\": TrainingInput(train_s3_path, content_type=\"csv\"),\n",
    "    \"validation\": TrainingInput(test_s3_path, content_type=\"csv\")\n",
    "})\n"
   ]
  },
  {
   "cell_type": "markdown",
   "id": "b0ac6ab612e87399",
   "metadata": {},
   "source": [
    "# Deploy Model and Test Inference\n",
    "\n",
    "This section deploys the trained model to a SageMaker endpoint and performs a prediction on a sample row from the test set.\n"
   ]
  },
  {
   "cell_type": "code",
   "execution_count": 6,
   "id": "b0ddfec32f86aaed",
   "metadata": {},
   "outputs": [
    {
     "data": {
      "text/html": [
       "<pre style=\"white-space:pre;overflow-x:auto;line-height:normal;font-family:Menlo,'DejaVu Sans Mono',consolas,'Courier New',monospace\"><span style=\"color: #7fbfbf; text-decoration-color: #7fbfbf\">[04/04/25 17:15:13] </span><span style=\"color: #0069ff; text-decoration-color: #0069ff; font-weight: bold\">INFO    </span> Creating model with name: sagemaker-xgboost-<span style=\"color: #008080; text-decoration-color: #008080; font-weight: bold\">2025</span>-04-04-17-15-13-901    <a href=\"file:///home/ec2-user/anaconda3/envs/tensorflow2_p310/lib/python3.10/site-packages/sagemaker/session.py\" target=\"_blank\"><span style=\"color: #7f7f7f; text-decoration-color: #7f7f7f\">session.py</span></a><span style=\"color: #7f7f7f; text-decoration-color: #7f7f7f\">:</span><a href=\"file:///home/ec2-user/anaconda3/envs/tensorflow2_p310/lib/python3.10/site-packages/sagemaker/session.py#4094\" target=\"_blank\"><span style=\"color: #7f7f7f; text-decoration-color: #7f7f7f\">4094</span></a>\n",
       "</pre>\n"
      ],
      "text/plain": [
       "\u001B[2;36m[04/04/25 17:15:13]\u001B[0m\u001B[2;36m \u001B[0m\u001B[1;38;2;0;105;255mINFO    \u001B[0m Creating model with name: sagemaker-xgboost-\u001B[1;36m2025\u001B[0m-04-04-17-15-13-901    \u001B]8;id=952975;file:///home/ec2-user/anaconda3/envs/tensorflow2_p310/lib/python3.10/site-packages/sagemaker/session.py\u001B\\\u001B[2msession.py\u001B[0m\u001B]8;;\u001B\\\u001B[2m:\u001B[0m\u001B]8;id=727837;file:///home/ec2-user/anaconda3/envs/tensorflow2_p310/lib/python3.10/site-packages/sagemaker/session.py#4094\u001B\\\u001B[2m4094\u001B[0m\u001B]8;;\u001B\\\n"
      ]
     },
     "metadata": {},
     "output_type": "display_data"
    },
    {
     "data": {
      "text/html": [
       "<pre style=\"white-space:pre;overflow-x:auto;line-height:normal;font-family:Menlo,'DejaVu Sans Mono',consolas,'Courier New',monospace\"><span style=\"color: #7fbfbf; text-decoration-color: #7fbfbf\">[04/04/25 17:15:14] </span><span style=\"color: #0069ff; text-decoration-color: #0069ff; font-weight: bold\">INFO    </span> Creating endpoint-config with name                                     <a href=\"file:///home/ec2-user/anaconda3/envs/tensorflow2_p310/lib/python3.10/site-packages/sagemaker/session.py\" target=\"_blank\"><span style=\"color: #7f7f7f; text-decoration-color: #7f7f7f\">session.py</span></a><span style=\"color: #7f7f7f; text-decoration-color: #7f7f7f\">:</span><a href=\"file:///home/ec2-user/anaconda3/envs/tensorflow2_p310/lib/python3.10/site-packages/sagemaker/session.py#6019\" target=\"_blank\"><span style=\"color: #7f7f7f; text-decoration-color: #7f7f7f\">6019</span></a>\n",
       "<span style=\"color: #7fbfbf; text-decoration-color: #7fbfbf\">                    </span>         sagemaker-xgboost-<span style=\"color: #008080; text-decoration-color: #008080; font-weight: bold\">2025</span>-04-04-17-15-13-901                              <span style=\"color: #7f7f7f; text-decoration-color: #7f7f7f\">               </span>\n",
       "</pre>\n"
      ],
      "text/plain": [
       "\u001B[2;36m[04/04/25 17:15:14]\u001B[0m\u001B[2;36m \u001B[0m\u001B[1;38;2;0;105;255mINFO    \u001B[0m Creating endpoint-config with name                                     \u001B]8;id=707555;file:///home/ec2-user/anaconda3/envs/tensorflow2_p310/lib/python3.10/site-packages/sagemaker/session.py\u001B\\\u001B[2msession.py\u001B[0m\u001B]8;;\u001B\\\u001B[2m:\u001B[0m\u001B]8;id=625373;file:///home/ec2-user/anaconda3/envs/tensorflow2_p310/lib/python3.10/site-packages/sagemaker/session.py#6019\u001B\\\u001B[2m6019\u001B[0m\u001B]8;;\u001B\\\n",
       "\u001B[2;36m                    \u001B[0m         sagemaker-xgboost-\u001B[1;36m2025\u001B[0m-04-04-17-15-13-901                              \u001B[2m               \u001B[0m\n"
      ]
     },
     "metadata": {},
     "output_type": "display_data"
    },
    {
     "data": {
      "text/html": [
       "<pre style=\"white-space:pre;overflow-x:auto;line-height:normal;font-family:Menlo,'DejaVu Sans Mono',consolas,'Courier New',monospace\"><span style=\"color: #7fbfbf; text-decoration-color: #7fbfbf\">                    </span><span style=\"color: #0069ff; text-decoration-color: #0069ff; font-weight: bold\">INFO    </span> Creating endpoint with name sagemaker-xgboost-<span style=\"color: #008080; text-decoration-color: #008080; font-weight: bold\">2025</span>-04-04-17-15-13-901  <a href=\"file:///home/ec2-user/anaconda3/envs/tensorflow2_p310/lib/python3.10/site-packages/sagemaker/session.py\" target=\"_blank\"><span style=\"color: #7f7f7f; text-decoration-color: #7f7f7f\">session.py</span></a><span style=\"color: #7f7f7f; text-decoration-color: #7f7f7f\">:</span><a href=\"file:///home/ec2-user/anaconda3/envs/tensorflow2_p310/lib/python3.10/site-packages/sagemaker/session.py#4841\" target=\"_blank\"><span style=\"color: #7f7f7f; text-decoration-color: #7f7f7f\">4841</span></a>\n",
       "</pre>\n"
      ],
      "text/plain": [
       "\u001B[2;36m                   \u001B[0m\u001B[2;36m \u001B[0m\u001B[1;38;2;0;105;255mINFO    \u001B[0m Creating endpoint with name sagemaker-xgboost-\u001B[1;36m2025\u001B[0m-04-04-17-15-13-901  \u001B]8;id=302135;file:///home/ec2-user/anaconda3/envs/tensorflow2_p310/lib/python3.10/site-packages/sagemaker/session.py\u001B\\\u001B[2msession.py\u001B[0m\u001B]8;;\u001B\\\u001B[2m:\u001B[0m\u001B]8;id=226922;file:///home/ec2-user/anaconda3/envs/tensorflow2_p310/lib/python3.10/site-packages/sagemaker/session.py#4841\u001B\\\u001B[2m4841\u001B[0m\u001B]8;;\u001B\\\n"
      ]
     },
     "metadata": {},
     "output_type": "display_data"
    },
    {
     "name": "stdout",
     "output_type": "stream",
     "text": [
      "-------!Sample row: 2022,10,5,2,12,-0.0,1,1\n",
      "Prediction: {'predictions': [{'score': 0.9908559322357178}]}\n"
     ]
    }
   ],
   "source": [
    "from sagemaker.serializers import CSVSerializer\n",
    "from sagemaker.deserializers import JSONDeserializer\n",
    "\n",
    "predictor = xgb_estimator.deploy(initial_instance_count=1, instance_type=\"ml.p3.2xlarge\")\n",
    "predictor.serializer = CSVSerializer()\n",
    "predictor.deserializer = JSONDeserializer()\n",
    "\n",
    "sample = X_test.head(1).to_csv(header=False, index=False).strip()\n",
    "print(\"Sample row:\", sample)\n",
    "print(\"Prediction:\", predictor.predict(sample))\n"
   ]
  },
  {
   "cell_type": "markdown",
   "id": "f264e2e388798b",
   "metadata": {},
   "source": [
    "# Evaluate the Model\n",
    "\n",
    "This section evaluates the model performance using standard metrics and displays a confusion matrix.\n"
   ]
  },
  {
   "cell_type": "code",
   "execution_count": 7,
   "id": "ac221dd0eb2d3af1",
   "metadata": {},
   "outputs": [
    {
     "name": "stdout",
     "output_type": "stream",
     "text": [
      "              precision    recall  f1-score   support\n",
      "\n",
      "           0       1.00      1.00      1.00        30\n",
      "           1       1.00      1.00      1.00        29\n",
      "\n",
      "    accuracy                           1.00        59\n",
      "   macro avg       1.00      1.00      1.00        59\n",
      "weighted avg       1.00      1.00      1.00        59\n",
      "\n"
     ]
    },
    {
     "data": {
      "text/plain": [
       "<sklearn.metrics._plot.confusion_matrix.ConfusionMatrixDisplay at 0x7fb6de943ac0>"
      ]
     },
     "execution_count": 7,
     "metadata": {},
     "output_type": "execute_result"
    },
    {
     "data": {
      "image/png": "[encoded data removed]",
      "text/plain": [
       "<Figure size 640x480 with 2 Axes>"
      ]
     },
     "metadata": {},
     "output_type": "display_data"
    }
   ],
   "source": [
    "from sklearn.metrics import classification_report, confusion_matrix, ConfusionMatrixDisplay\n",
    "\n",
    "# Run batch prediction\n",
    "y_pred_proba = predictor.predict(X_test.to_csv(header=False, index=False))['predictions']\n",
    "y_pred = [int(float(p['score']) > 0.5) for p in y_pred_proba]\n",
    "\n",
    "# Classification report\n",
    "print(classification_report(y_test, y_pred))\n",
    "\n",
    "# Confusion matrix\n",
    "cm = confusion_matrix(y_test, y_pred)\n",
    "disp = ConfusionMatrixDisplay(confusion_matrix=cm, display_labels=[\"Valid\", \"Error\"])\n",
    "disp.plot(cmap=\"Blues\")"
   ]
  },
  {
   "cell_type": "markdown",
   "id": "abb6ddb5-4e85-4c43-b24e-cfe240dfd248",
   "metadata": {},
   "source": [
    "# Cleanup\n",
    "\n",
    "This section deletes the deployed endpoint to avoid incurring charges.\n"
   ]
  },
  {
   "cell_type": "code",
   "execution_count": 8,
   "id": "1ed78a87-4e29-4bcb-a73c-c513eede8a4d",
   "metadata": {
    "tags": []
   },
   "outputs": [
    {
     "data": {
      "text/html": [
       "<pre style=\"white-space:pre;overflow-x:auto;line-height:normal;font-family:Menlo,'DejaVu Sans Mono',consolas,'Courier New',monospace\"><span style=\"color: #7fbfbf; text-decoration-color: #7fbfbf\">[04/04/25 17:19:17] </span><span style=\"color: #0069ff; text-decoration-color: #0069ff; font-weight: bold\">INFO    </span> Deleting endpoint configuration with name:                             <a href=\"file:///home/ec2-user/anaconda3/envs/tensorflow2_p310/lib/python3.10/site-packages/sagemaker/session.py\" target=\"_blank\"><span style=\"color: #7f7f7f; text-decoration-color: #7f7f7f\">session.py</span></a><span style=\"color: #7f7f7f; text-decoration-color: #7f7f7f\">:</span><a href=\"file:///home/ec2-user/anaconda3/envs/tensorflow2_p310/lib/python3.10/site-packages/sagemaker/session.py#4995\" target=\"_blank\"><span style=\"color: #7f7f7f; text-decoration-color: #7f7f7f\">4995</span></a>\n",
       "<span style=\"color: #7fbfbf; text-decoration-color: #7fbfbf\">                    </span>         sagemaker-xgboost-<span style=\"color: #008080; text-decoration-color: #008080; font-weight: bold\">2025</span>-04-04-17-15-13-901                              <span style=\"color: #7f7f7f; text-decoration-color: #7f7f7f\">               </span>\n",
       "</pre>\n"
      ],
      "text/plain": [
       "\u001B[2;36m[04/04/25 17:19:17]\u001B[0m\u001B[2;36m \u001B[0m\u001B[1;38;2;0;105;255mINFO    \u001B[0m Deleting endpoint configuration with name:                             \u001B]8;id=947629;file:///home/ec2-user/anaconda3/envs/tensorflow2_p310/lib/python3.10/site-packages/sagemaker/session.py\u001B\\\u001B[2msession.py\u001B[0m\u001B]8;;\u001B\\\u001B[2m:\u001B[0m\u001B]8;id=796670;file:///home/ec2-user/anaconda3/envs/tensorflow2_p310/lib/python3.10/site-packages/sagemaker/session.py#4995\u001B\\\u001B[2m4995\u001B[0m\u001B]8;;\u001B\\\n",
       "\u001B[2;36m                    \u001B[0m         sagemaker-xgboost-\u001B[1;36m2025\u001B[0m-04-04-17-15-13-901                              \u001B[2m               \u001B[0m\n"
      ]
     },
     "metadata": {},
     "output_type": "display_data"
    },
    {
     "data": {
      "text/html": [
       "<pre style=\"white-space:pre;overflow-x:auto;line-height:normal;font-family:Menlo,'DejaVu Sans Mono',consolas,'Courier New',monospace\"><span style=\"color: #7fbfbf; text-decoration-color: #7fbfbf\">                    </span><span style=\"color: #0069ff; text-decoration-color: #0069ff; font-weight: bold\">INFO    </span> Deleting endpoint with name: sagemaker-xgboost-<span style=\"color: #008080; text-decoration-color: #008080; font-weight: bold\">2025</span>-04-04-17-15-13-901 <a href=\"file:///home/ec2-user/anaconda3/envs/tensorflow2_p310/lib/python3.10/site-packages/sagemaker/session.py\" target=\"_blank\"><span style=\"color: #7f7f7f; text-decoration-color: #7f7f7f\">session.py</span></a><span style=\"color: #7f7f7f; text-decoration-color: #7f7f7f\">:</span><a href=\"file:///home/ec2-user/anaconda3/envs/tensorflow2_p310/lib/python3.10/site-packages/sagemaker/session.py#4985\" target=\"_blank\"><span style=\"color: #7f7f7f; text-decoration-color: #7f7f7f\">4985</span></a>\n",
       "</pre>\n"
      ],
      "text/plain": [
       "\u001B[2;36m                   \u001B[0m\u001B[2;36m \u001B[0m\u001B[1;38;2;0;105;255mINFO    \u001B[0m Deleting endpoint with name: sagemaker-xgboost-\u001B[1;36m2025\u001B[0m-04-04-17-15-13-901 \u001B]8;id=99430;file:///home/ec2-user/anaconda3/envs/tensorflow2_p310/lib/python3.10/site-packages/sagemaker/session.py\u001B\\\u001B[2msession.py\u001B[0m\u001B]8;;\u001B\\\u001B[2m:\u001B[0m\u001B]8;id=866305;file:///home/ec2-user/anaconda3/envs/tensorflow2_p310/lib/python3.10/site-packages/sagemaker/session.py#4985\u001B\\\u001B[2m4985\u001B[0m\u001B]8;;\u001B\\\n"
      ]
     },
     "metadata": {},
     "output_type": "display_data"
    }
   ],
   "source": [
    "predictor.delete_endpoint()"
   ]
  }
 ],
 "metadata": {
  "kernelspec": {
   "display_name": "conda_tensorflow2_p310",
   "language": "python",
   "name": "conda_tensorflow2_p310"
  },
  "language_info": {
   "codemirror_mode": {
    "name": "ipython",
    "version": 3
   },
   "file_extension": ".py",
   "mimetype": "text/x-python",
   "name": "python",
   "nbconvert_exporter": "python",
   "pygments_lexer": "ipython3",
   "version": "3.10.16"
  }
 },
 "nbformat": 4,
 "nbformat_minor": 5
}
